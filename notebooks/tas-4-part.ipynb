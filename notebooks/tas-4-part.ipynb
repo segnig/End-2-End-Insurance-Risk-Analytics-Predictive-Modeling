{
 "cells": [
  {
   "cell_type": "code",
   "execution_count": 37,
   "id": "b1db1813",
   "metadata": {},
   "outputs": [],
   "source": [
    "import pandas as pd\n",
    "import numpy as np\n",
    "import matplotlib.pyplot as plt"
   ]
  },
  {
   "cell_type": "code",
   "execution_count": 38,
   "id": "9c8c5b24",
   "metadata": {},
   "outputs": [
    {
     "data": {
      "text/html": [
       "<div>\n",
       "<style scoped>\n",
       "    .dataframe tbody tr th:only-of-type {\n",
       "        vertical-align: middle;\n",
       "    }\n",
       "\n",
       "    .dataframe tbody tr th {\n",
       "        vertical-align: top;\n",
       "    }\n",
       "\n",
       "    .dataframe thead th {\n",
       "        text-align: right;\n",
       "    }\n",
       "</style>\n",
       "<table border=\"1\" class=\"dataframe\">\n",
       "  <thead>\n",
       "    <tr style=\"text-align: right;\">\n",
       "      <th></th>\n",
       "      <th>UnderwrittenCoverID</th>\n",
       "      <th>PolicyID</th>\n",
       "      <th>TransactionMonth</th>\n",
       "      <th>IsVATRegistered</th>\n",
       "      <th>Citizenship</th>\n",
       "      <th>LegalType</th>\n",
       "      <th>Title</th>\n",
       "      <th>Language</th>\n",
       "      <th>Bank</th>\n",
       "      <th>AccountType</th>\n",
       "      <th>...</th>\n",
       "      <th>ExcessSelected</th>\n",
       "      <th>CoverCategory</th>\n",
       "      <th>CoverType</th>\n",
       "      <th>CoverGroup</th>\n",
       "      <th>Section</th>\n",
       "      <th>Product</th>\n",
       "      <th>StatutoryClass</th>\n",
       "      <th>StatutoryRiskType</th>\n",
       "      <th>TotalPremium</th>\n",
       "      <th>TotalClaims</th>\n",
       "    </tr>\n",
       "  </thead>\n",
       "  <tbody>\n",
       "    <tr>\n",
       "      <th>0</th>\n",
       "      <td>145249</td>\n",
       "      <td>12827</td>\n",
       "      <td>2015-03-01</td>\n",
       "      <td>True</td>\n",
       "      <td>NaN</td>\n",
       "      <td>Close Corporation</td>\n",
       "      <td>Mr</td>\n",
       "      <td>English</td>\n",
       "      <td>First National Bank</td>\n",
       "      <td>Current account</td>\n",
       "      <td>...</td>\n",
       "      <td>Mobility - Windscreen</td>\n",
       "      <td>Windscreen</td>\n",
       "      <td>Windscreen</td>\n",
       "      <td>Comprehensive - Taxi</td>\n",
       "      <td>Motor Comprehensive</td>\n",
       "      <td>Mobility Metered Taxis: Monthly</td>\n",
       "      <td>Commercial</td>\n",
       "      <td>IFRS Constant</td>\n",
       "      <td>21.929825</td>\n",
       "      <td>0.0</td>\n",
       "    </tr>\n",
       "    <tr>\n",
       "      <th>1</th>\n",
       "      <td>145249</td>\n",
       "      <td>12827</td>\n",
       "      <td>2015-05-01</td>\n",
       "      <td>True</td>\n",
       "      <td>NaN</td>\n",
       "      <td>Close Corporation</td>\n",
       "      <td>Mr</td>\n",
       "      <td>English</td>\n",
       "      <td>First National Bank</td>\n",
       "      <td>Current account</td>\n",
       "      <td>...</td>\n",
       "      <td>Mobility - Windscreen</td>\n",
       "      <td>Windscreen</td>\n",
       "      <td>Windscreen</td>\n",
       "      <td>Comprehensive - Taxi</td>\n",
       "      <td>Motor Comprehensive</td>\n",
       "      <td>Mobility Metered Taxis: Monthly</td>\n",
       "      <td>Commercial</td>\n",
       "      <td>IFRS Constant</td>\n",
       "      <td>21.929825</td>\n",
       "      <td>0.0</td>\n",
       "    </tr>\n",
       "    <tr>\n",
       "      <th>2</th>\n",
       "      <td>145249</td>\n",
       "      <td>12827</td>\n",
       "      <td>2015-07-01</td>\n",
       "      <td>True</td>\n",
       "      <td>NaN</td>\n",
       "      <td>Close Corporation</td>\n",
       "      <td>Mr</td>\n",
       "      <td>English</td>\n",
       "      <td>First National Bank</td>\n",
       "      <td>Current account</td>\n",
       "      <td>...</td>\n",
       "      <td>Mobility - Windscreen</td>\n",
       "      <td>Windscreen</td>\n",
       "      <td>Windscreen</td>\n",
       "      <td>Comprehensive - Taxi</td>\n",
       "      <td>Motor Comprehensive</td>\n",
       "      <td>Mobility Metered Taxis: Monthly</td>\n",
       "      <td>Commercial</td>\n",
       "      <td>IFRS Constant</td>\n",
       "      <td>0.000000</td>\n",
       "      <td>0.0</td>\n",
       "    </tr>\n",
       "    <tr>\n",
       "      <th>3</th>\n",
       "      <td>145255</td>\n",
       "      <td>12827</td>\n",
       "      <td>2015-05-01</td>\n",
       "      <td>True</td>\n",
       "      <td>NaN</td>\n",
       "      <td>Close Corporation</td>\n",
       "      <td>Mr</td>\n",
       "      <td>English</td>\n",
       "      <td>First National Bank</td>\n",
       "      <td>Current account</td>\n",
       "      <td>...</td>\n",
       "      <td>Mobility - Metered Taxis - R2000</td>\n",
       "      <td>Own damage</td>\n",
       "      <td>Own Damage</td>\n",
       "      <td>Comprehensive - Taxi</td>\n",
       "      <td>Motor Comprehensive</td>\n",
       "      <td>Mobility Metered Taxis: Monthly</td>\n",
       "      <td>Commercial</td>\n",
       "      <td>IFRS Constant</td>\n",
       "      <td>512.848070</td>\n",
       "      <td>0.0</td>\n",
       "    </tr>\n",
       "    <tr>\n",
       "      <th>4</th>\n",
       "      <td>145255</td>\n",
       "      <td>12827</td>\n",
       "      <td>2015-07-01</td>\n",
       "      <td>True</td>\n",
       "      <td>NaN</td>\n",
       "      <td>Close Corporation</td>\n",
       "      <td>Mr</td>\n",
       "      <td>English</td>\n",
       "      <td>First National Bank</td>\n",
       "      <td>Current account</td>\n",
       "      <td>...</td>\n",
       "      <td>Mobility - Metered Taxis - R2000</td>\n",
       "      <td>Own damage</td>\n",
       "      <td>Own Damage</td>\n",
       "      <td>Comprehensive - Taxi</td>\n",
       "      <td>Motor Comprehensive</td>\n",
       "      <td>Mobility Metered Taxis: Monthly</td>\n",
       "      <td>Commercial</td>\n",
       "      <td>IFRS Constant</td>\n",
       "      <td>0.000000</td>\n",
       "      <td>0.0</td>\n",
       "    </tr>\n",
       "  </tbody>\n",
       "</table>\n",
       "<p>5 rows × 52 columns</p>\n",
       "</div>"
      ],
      "text/plain": [
       "   UnderwrittenCoverID  PolicyID TransactionMonth  IsVATRegistered  \\\n",
       "0               145249     12827       2015-03-01             True   \n",
       "1               145249     12827       2015-05-01             True   \n",
       "2               145249     12827       2015-07-01             True   \n",
       "3               145255     12827       2015-05-01             True   \n",
       "4               145255     12827       2015-07-01             True   \n",
       "\n",
       "  Citizenship          LegalType Title Language                 Bank  \\\n",
       "0         NaN  Close Corporation    Mr  English  First National Bank   \n",
       "1         NaN  Close Corporation    Mr  English  First National Bank   \n",
       "2         NaN  Close Corporation    Mr  English  First National Bank   \n",
       "3         NaN  Close Corporation    Mr  English  First National Bank   \n",
       "4         NaN  Close Corporation    Mr  English  First National Bank   \n",
       "\n",
       "       AccountType  ...                    ExcessSelected CoverCategory  \\\n",
       "0  Current account  ...             Mobility - Windscreen    Windscreen   \n",
       "1  Current account  ...             Mobility - Windscreen    Windscreen   \n",
       "2  Current account  ...             Mobility - Windscreen    Windscreen   \n",
       "3  Current account  ...  Mobility - Metered Taxis - R2000    Own damage   \n",
       "4  Current account  ...  Mobility - Metered Taxis - R2000    Own damage   \n",
       "\n",
       "    CoverType            CoverGroup              Section  \\\n",
       "0  Windscreen  Comprehensive - Taxi  Motor Comprehensive   \n",
       "1  Windscreen  Comprehensive - Taxi  Motor Comprehensive   \n",
       "2  Windscreen  Comprehensive - Taxi  Motor Comprehensive   \n",
       "3  Own Damage  Comprehensive - Taxi  Motor Comprehensive   \n",
       "4  Own Damage  Comprehensive - Taxi  Motor Comprehensive   \n",
       "\n",
       "                           Product StatutoryClass StatutoryRiskType  \\\n",
       "0  Mobility Metered Taxis: Monthly     Commercial     IFRS Constant   \n",
       "1  Mobility Metered Taxis: Monthly     Commercial     IFRS Constant   \n",
       "2  Mobility Metered Taxis: Monthly     Commercial     IFRS Constant   \n",
       "3  Mobility Metered Taxis: Monthly     Commercial     IFRS Constant   \n",
       "4  Mobility Metered Taxis: Monthly     Commercial     IFRS Constant   \n",
       "\n",
       "   TotalPremium TotalClaims  \n",
       "0     21.929825         0.0  \n",
       "1     21.929825         0.0  \n",
       "2      0.000000         0.0  \n",
       "3    512.848070         0.0  \n",
       "4      0.000000         0.0  \n",
       "\n",
       "[5 rows x 52 columns]"
      ]
     },
     "execution_count": 38,
     "metadata": {},
     "output_type": "execute_result"
    }
   ],
   "source": [
    "data = pd.read_csv(\"../data/data.csv\")\n",
    "data.head()"
   ]
  },
  {
   "cell_type": "code",
   "execution_count": 39,
   "id": "2ef94c9f",
   "metadata": {},
   "outputs": [
    {
     "data": {
      "text/plain": [
       "(1000091, 52)"
      ]
     },
     "execution_count": 39,
     "metadata": {},
     "output_type": "execute_result"
    }
   ],
   "source": [
    "(data[data.CalculatedPremiumPerTerm > 0]).shape"
   ]
  },
  {
   "cell_type": "code",
   "execution_count": 40,
   "id": "734aa1f2",
   "metadata": {},
   "outputs": [
    {
     "name": "stdout",
     "output_type": "stream",
     "text": [
      "Citizenship                 895210\n",
      "Bank                        145961\n",
      "AccountType                  40232\n",
      "MaritalStatus                 8259\n",
      "Gender                        9536\n",
      "mmcode                         552\n",
      "VehicleType                    552\n",
      "make                           552\n",
      "Model                          552\n",
      "Cylinders                      552\n",
      "cubiccapacity                  552\n",
      "kilowatts                      552\n",
      "bodytype                       552\n",
      "NumberOfDoors                  552\n",
      "VehicleIntroDate               552\n",
      "CustomValueEstimate         779642\n",
      "CapitalOutstanding               2\n",
      "NewVehicle                  153295\n",
      "WrittenOff                  641901\n",
      "Rebuilt                     641901\n",
      "Converted                   641901\n",
      "CrossBorder                 999400\n",
      "NumberOfVehiclesInFleet    1000098\n",
      "dtype: int64\n",
      "                         missing_count  missing_percentage\n",
      "NumberOfVehiclesInFleet        1000098          100.000000\n",
      "CrossBorder                     999400           99.930207\n",
      "Citizenship                     895210           89.512228\n",
      "CustomValueEstimate             779642           77.956560\n",
      "WrittenOff                      641901           64.183810\n",
      "Converted                       641901           64.183810\n",
      "Rebuilt                         641901           64.183810\n",
      "NewVehicle                      153295           15.327998\n",
      "Bank                            145961           14.594670\n",
      "AccountType                      40232            4.022806\n",
      "Gender                            9536            0.953507\n",
      "MaritalStatus                     8259            0.825819\n",
      "mmcode                             552            0.055195\n",
      "VehicleType                        552            0.055195\n",
      "make                               552            0.055195\n",
      "VehicleIntroDate                   552            0.055195\n",
      "NumberOfDoors                      552            0.055195\n",
      "bodytype                           552            0.055195\n",
      "kilowatts                          552            0.055195\n",
      "cubiccapacity                      552            0.055195\n",
      "Cylinders                          552            0.055195\n",
      "Model                              552            0.055195\n",
      "CapitalOutstanding                   2            0.000200\n"
     ]
    }
   ],
   "source": [
    "# Calculate the number of missing values per feature\n",
    "missing_features = data.isnull().sum()[data.isnull().sum() > 0]\n",
    "print(missing_features)\n",
    "# Calculate the percentage of missing values per feature\n",
    "missing_percentage = (missing_features / len(data)) * 100\n",
    "\n",
    "# Create a DataFrame summarizing missing data\n",
    "missing_df = pd.DataFrame({\n",
    "    'missing_count': missing_features,\n",
    "    'missing_percentage': missing_percentage\n",
    "})\n",
    "\n",
    "# Optional: Display the DataFrame sorted by missing percentage (descending)\n",
    "missing_df = missing_df.sort_values(by='missing_percentage', ascending=False)\n",
    "\n",
    "print(missing_df)"
   ]
  },
  {
   "cell_type": "code",
   "execution_count": 41,
   "id": "427af1d7",
   "metadata": {},
   "outputs": [
    {
     "name": "stdout",
     "output_type": "stream",
     "text": [
      "Identified 34 categorical features: ['TransactionMonth', 'Citizenship', 'LegalType', 'Title', 'Language', 'Bank', 'AccountType', 'MaritalStatus', 'Gender', 'Country', 'Province', 'MainCrestaZone', 'SubCrestaZone', 'ItemType', 'VehicleType', 'make', 'Model', 'bodytype', 'VehicleIntroDate', 'CapitalOutstanding', 'NewVehicle', 'WrittenOff', 'Rebuilt', 'Converted', 'CrossBorder', 'TermFrequency', 'ExcessSelected', 'CoverCategory', 'CoverType', 'CoverGroup', 'Section', 'Product', 'StatutoryClass', 'StatutoryRiskType']\n",
      "Identified 15 numerical features: ['UnderwrittenCoverID', 'PolicyID', 'PostalCode', 'mmcode', 'RegistrationYear', 'Cylinders', 'cubiccapacity', 'kilowatts', 'NumberOfDoors', 'CustomValueEstimate', 'NumberOfVehiclesInFleet', 'SumInsured', 'CalculatedPremiumPerTerm', 'TotalPremium', 'TotalClaims']\n",
      "Identified 3 numerical features: ['IsVATRegistered', 'AlarmImmobiliser', 'TrackingDevice']\n"
     ]
    }
   ],
   "source": [
    "categorical_features = data.select_dtypes(include=\"object\").columns.to_list()\n",
    "numerical_features = data.select_dtypes(include=\"number\").columns.to_list()\n",
    "boolean_features = data.select_dtypes(include=\"bool\").columns.to_list()\n",
    "\n",
    "print(f\"Identified {len(categorical_features)} categorical features: {categorical_features}\")\n",
    "print(f\"Identified {len(numerical_features)} numerical features: {numerical_features}\")\n",
    "print(f\"Identified {len(boolean_features)} numerical features: {boolean_features}\")"
   ]
  },
  {
   "cell_type": "code",
   "execution_count": 42,
   "id": "9b75d1f6",
   "metadata": {},
   "outputs": [
    {
     "name": "stdout",
     "output_type": "stream",
     "text": [
      "Dropped features with >30% missing values: ['NumberOfVehiclesInFleet', 'CrossBorder', 'Citizenship', 'CustomValueEstimate', 'WrittenOff', 'Converted', 'Rebuilt']\n"
     ]
    }
   ],
   "source": [
    "# Identify features with more than 30% missing values and drop them\n",
    "highly_missed_features = missing_df[missing_df['missing_percentage'] > 30].index.to_list()\n",
    "data = data.drop(columns=highly_missed_features)\n",
    "\n",
    "print(\"Dropped features with >30% missing values:\", highly_missed_features)"
   ]
  },
  {
   "cell_type": "code",
   "execution_count": 43,
   "id": "edfca480",
   "metadata": {},
   "outputs": [],
   "source": [
    "filling_need_cat_features = [col for col in missing_features.index if col in data.select_dtypes(include=\"object\").columns]\n",
    "filling_need_num_features = [col for col in missing_features.index if col in data.select_dtypes(include=\"number\").columns]\n",
    "filling_need_bool_features = [col for col in missing_features.index if col in data.select_dtypes(include=\"bool\").columns]\n",
    "\n",
    "\n",
    "# Fill missing values in numerical features with the mean\n",
    "for col in filling_need_num_features:\n",
    "    data[col] = data[col].fillna(data[col].mean())\n",
    "\n",
    "# Fill missing values in categorical features with the mode\n",
    "for col in filling_need_cat_features:\n",
    "    mode_val = data[col].mode()[0]\n",
    "    data[col] = data[col].fillna(mode_val)"
   ]
  },
  {
   "cell_type": "code",
   "execution_count": 44,
   "id": "0ba63de9",
   "metadata": {},
   "outputs": [],
   "source": [
    "\n",
    "# Convert columns to datetime\n",
    "data[\"VehicleIntroDate\"] = pd.to_datetime(data[\"VehicleIntroDate\"])\n",
    "data[\"TransactionMonth\"] = pd.to_datetime(data[\"TransactionMonth\"])\n",
    "\n",
    "# Calculate duration in months between TransactionMonth and VehicleIntroDate\n",
    "data[\"duration\"] = (data[\"TransactionMonth\"].dt.year - data[\"VehicleIntroDate\"].dt.year) * 12 + \\\n",
    "                   (data[\"TransactionMonth\"].dt.month - data[\"VehicleIntroDate\"].dt.month)\n",
    "\n",
    "data[\"Year\"] = data[\"TransactionMonth\"]"
   ]
  },
  {
   "cell_type": "code",
   "execution_count": 45,
   "id": "836b8d0c",
   "metadata": {},
   "outputs": [],
   "source": [
    "data = data.drop(columns=['TotalClaims'])"
   ]
  },
  {
   "cell_type": "markdown",
   "id": "02607aa7",
   "metadata": {},
   "source": [
    "When building a machine learning model to predict an appropriate premium (e.g., `CalculatedPremiumPerTerm`), it's crucial to avoid **leaky features**—features that either directly or indirectly contain information about the target variable (`CalculatedPremiumPerTerm`) or are influenced by it. Leaky features can lead to overly optimistic model performance during training but fail in real-world deployment.\n",
    "\n",
    "### **Potential Leaky Features to Avoid:**\n",
    "1. **`TotalPremium`**  \n",
    "   - This is likely derived from `CalculatedPremiumPerTerm` (e.g., `TotalPremium = CalculatedPremiumPerTerm × TermFrequency`).  \n",
    "   - **Why it’s leaky?** It directly depends on the target variable.\n",
    "\n",
    "2. **`PremiumPerTerm` (if it exists)**  \n",
    "   - If this is a direct duplicate or near-duplicate of `CalculatedPremiumPerTerm`, it’s a leak.\n",
    "\n",
    "3. **`SumInsured` (if used improperly)**  \n",
    "   - If `CalculatedPremiumPerTerm` is derived as a percentage of `SumInsured`, then using `SumInsured` naively could introduce a circular dependency.  \n",
    "   - **Solution:** Instead of using `SumInsured` directly, consider risk factors that justify the sum insured (e.g., `CustomValueEstimate`, `VehicleType`, etc.).\n",
    "\n",
    "4. **`StatutoryClass` or `StatutoryRiskType` (if derived from premium)**  \n",
    "   - If these are regulatory classifications that are determined based on premium calculations, they may leak information.  \n",
    "   - **Check:** Verify whether these are independent risk categories or derived from pricing.\n",
    "\n",
    "5. **`ExcessSelected` (if influenced by premium)**  \n",
    "   - If clients choose higher excess (deductible) to reduce premiums, this could create a feedback loop.  \n",
    "   - **Solution:** Treat as a client choice rather than a risk factor unless proven independent.\n",
    "\n",
    "\n",
    "6. **`TotalClaims` (if future claims influence past premiums)**  \n",
    "   - If `CalculatedPremiumPerTerm` is adjusted based on past claims, this could leak future information.  \n",
    "   - **Solution:** Only use historical claims data if temporally validated.\n"
   ]
  },
  {
   "cell_type": "markdown",
   "id": "191a8d56",
   "metadata": {},
   "source": [
    "### Dropping leakage Features"
   ]
  },
  {
   "cell_type": "code",
   "execution_count": 46,
   "id": "b8042d8b",
   "metadata": {},
   "outputs": [
    {
     "data": {
      "text/plain": [
       "(1000098, 42)"
      ]
     },
     "execution_count": 46,
     "metadata": {},
     "output_type": "execute_result"
    }
   ],
   "source": [
    "leakage_features = [\n",
    "    \"TotalPremium\", 'PremiumPerTerm', 'ExcessSelected', 'StatutoryClass', 'StatutoryRiskType', 'TotalClaims'\n",
    "]\n",
    "\n",
    "for col in leakage_features:\n",
    "    if col in data.columns:\n",
    "        data = data.drop(columns=col)\n",
    "        \n",
    "data.shape"
   ]
  },
  {
   "cell_type": "code",
   "execution_count": 47,
   "id": "0c959dd1",
   "metadata": {},
   "outputs": [
    {
     "data": {
      "text/plain": [
       "(1000098, 39)"
      ]
     },
     "execution_count": 47,
     "metadata": {},
     "output_type": "execute_result"
    }
   ],
   "source": [
    "import warnings\n",
    "\n",
    "warnings.filterwarnings('ignore')\n",
    "for col in data.select_dtypes(include=\"object\").columns:\n",
    "    if data[col].nunique() == 1:\n",
    "        data.drop(columns=[col], inplace=True)\n",
    "        \n",
    "data.shape"
   ]
  },
  {
   "cell_type": "code",
   "execution_count": 48,
   "id": "8990149d",
   "metadata": {},
   "outputs": [
    {
     "data": {
      "text/plain": [
       "(1000098, 36)"
      ]
     },
     "execution_count": 48,
     "metadata": {},
     "output_type": "execute_result"
    }
   ],
   "source": [
    "import warnings\n",
    "\n",
    "warnings.filterwarnings('ignore')\n",
    "for col in data.select_dtypes(include=\"bool\").columns:\n",
    "    if data[col].nunique() == 1:\n",
    "        data.drop(columns=[col], inplace=True)\n",
    "        \n",
    "data.shape"
   ]
  },
  {
   "cell_type": "code",
   "execution_count": 54,
   "id": "fcac31f7",
   "metadata": {},
   "outputs": [
    {
     "data": {
      "text/plain": [
       "10      119300\n",
       "910          0\n",
       "1810         0\n",
       "2710    135800\n",
       "3610    200000\n",
       "4510    230000\n",
       "5410    274400\n",
       "6310         0\n",
       "7210    270600\n",
       "8110    282100\n",
       "9010    200000\n",
       "9910    149500\n",
       "Name: CapitalOutstanding, dtype: object"
      ]
     },
     "execution_count": 54,
     "metadata": {},
     "output_type": "execute_result"
    }
   ],
   "source": [
    "data.CapitalOutstanding.iloc[10:10000:900]"
   ]
  },
  {
   "cell_type": "code",
   "execution_count": null,
   "id": "817bf082",
   "metadata": {},
   "outputs": [],
   "source": []
  },
  {
   "cell_type": "code",
   "execution_count": 55,
   "id": "000413c7",
   "metadata": {},
   "outputs": [],
   "source": [
    "# Remove dots (thousands separators) and replace commas (decimal separators) with dots\n",
    "data[\"CapitalOutstanding\"] = (\n",
    "    data[\"CapitalOutstanding\"]\n",
    "    .astype(str)  # Ensure all values are strings\n",
    "    .str.replace(',', '', regex=False) # Replace decimal comma with dot\n",
    "    .astype(float)  # Convert to float\n",
    ")"
   ]
  },
  {
   "cell_type": "code",
   "execution_count": 56,
   "id": "80f1223c",
   "metadata": {},
   "outputs": [
    {
     "data": {
      "text/plain": [
       "0    119300.0\n",
       "1    119300.0\n",
       "2    119300.0\n",
       "3    119300.0\n",
       "4    119300.0\n",
       "Name: CapitalOutstanding, dtype: float64"
      ]
     },
     "execution_count": 56,
     "metadata": {},
     "output_type": "execute_result"
    }
   ],
   "source": [
    "data.CapitalOutstanding.head()"
   ]
  },
  {
   "cell_type": "code",
   "execution_count": 57,
   "id": "db0c0f0c",
   "metadata": {},
   "outputs": [],
   "source": [
    "import re\n",
    "\n",
    "# Function to standardize class names: lowercase, remove special characters, replace spaces with underscores\n",
    "def clean_class_name(x):\n",
    "    if isinstance(x, str):\n",
    "        x = x.lower() # Convert to lowercase\n",
    "        \n",
    "        x = re.sub(r'[^\\w\\s]', '', x)  # Remove special characters\n",
    "        x = x.strip()\n",
    "        x = re.sub(r'\\s+', '_', x)     # Replace spaces with underscores\n",
    "        return x\n",
    "    return x\n",
    "\n",
    "# Apply to all categorical features\n",
    "\n",
    "categorical_features = data.select_dtypes(\"object\").columns.to_list()\n",
    "for col in categorical_features:\n",
    "    data[col] = data[col].apply(clean_class_name)"
   ]
  },
  {
   "cell_type": "code",
   "execution_count": 58,
   "id": "30fb35fd",
   "metadata": {},
   "outputs": [
    {
     "name": "stdout",
     "output_type": "stream",
     "text": [
      "LegalType 6\n",
      "Title 5\n",
      "Bank 11\n",
      "AccountType 3\n",
      "MaritalStatus 3\n",
      "Gender 3\n",
      "Province 9\n",
      "MainCrestaZone 16\n",
      "SubCrestaZone 45\n",
      "VehicleType 5\n",
      "make 42\n",
      "Model 406\n",
      "bodytype 13\n",
      "NewVehicle 2\n",
      "TermFrequency 2\n",
      "CoverCategory 26\n",
      "CoverType 22\n",
      "CoverGroup 14\n",
      "Section 5\n",
      "Product 4\n"
     ]
    }
   ],
   "source": [
    "for col in categorical_features:\n",
    "    print(col, data[col].nunique())"
   ]
  },
  {
   "cell_type": "code",
   "execution_count": 59,
   "id": "fca1b9b8",
   "metadata": {},
   "outputs": [],
   "source": [
    "# Map Title to Gender for consistency where Gender is missing or 'Not specified'\n",
    "title_gender_map = {\n",
    "    'mr': 'male',\n",
    "    'mrs': 'female',\n",
    "    'ms': 'female',\n",
    "    'miss': 'female',\n",
    "    'dr': \"not_specified\"\n",
    "}\n",
    "\n",
    "# Update Gender based on Title where Gender is missing or 'Not specified'\n",
    "mask = (data['Gender'] == 'not_specified')\n",
    "data.loc[mask, 'Gender'] = data.loc[mask, 'Title'].map(title_gender_map).fillna(data.loc[mask, 'Gender'])"
   ]
  },
  {
   "cell_type": "code",
   "execution_count": 60,
   "id": "a7954c7d",
   "metadata": {},
   "outputs": [],
   "source": [
    "# Iterate over each categorical feature\n",
    "for col in categorical_features:\n",
    "    # Get value counts for the column\n",
    "    value_counts = data[col].value_counts()\n",
    "    # Identify classes with fewer than 100 occurrences\n",
    "    rare_classes = value_counts[value_counts < 1000].index\n",
    "    # Replace rare classes with 'Other'\n",
    "    data[col] = data[col].apply(lambda x: 'other' if x in rare_classes else x)"
   ]
  },
  {
   "cell_type": "code",
   "execution_count": 61,
   "id": "38cda737",
   "metadata": {},
   "outputs": [
    {
     "data": {
      "text/plain": [
       "(1000098, 155)"
      ]
     },
     "execution_count": 61,
     "metadata": {},
     "output_type": "execute_result"
    }
   ],
   "source": [
    "def encode_categorical_features_by_claims(df, categorical_features, target_col=\"CapitalOutstanding\"):\n",
    "    \"\"\"\n",
    "    Encodes categorical features in a DataFrame:\n",
    "    - If a feature has more than 5 unique classes, uses target-based label encoding (mean TotalClaims).\n",
    "    - If a feature has 5 or fewer unique classes, uses one-hot encoding.\n",
    "    Returns a new DataFrame with encoded features.\n",
    "    \"\"\"\n",
    "    df_encoded = df.copy()\n",
    "    for col in categorical_features:\n",
    "        n_unique = df_encoded[col].nunique()\n",
    "        if n_unique > 20:\n",
    "            # Target-based label encoding: map each category to mean TotalClaims\n",
    "            means = df_encoded.groupby(col)[target_col].mean()\n",
    "            df_encoded[col] = df_encoded[col].map(means)\n",
    "        else:\n",
    "            # One-hot encoding for features with 5 or fewer classes\n",
    "            dummies = pd.get_dummies(df_encoded[col], prefix=col)\n",
    "            df_encoded = pd.concat([df_encoded.drop(columns=[col]), dummies], axis=1)\n",
    "            \n",
    "    return df_encoded\n",
    "\n",
    "df_encoded = encode_categorical_features_by_claims(df=data, categorical_features=categorical_features)\n",
    "\n",
    "df_encoded.shape"
   ]
  },
  {
   "cell_type": "code",
   "execution_count": 64,
   "id": "98a55898",
   "metadata": {},
   "outputs": [
    {
     "name": "stdout",
     "output_type": "stream",
     "text": [
      "152\n"
     ]
    }
   ],
   "source": [
    "training_features = [col for col in df_encoded.select_dtypes(include=[\"bool\", \"number\"]).columns]\n",
    "\n",
    "print(len(training_features))"
   ]
  },
  {
   "cell_type": "code",
   "execution_count": 67,
   "id": "a2d02b36",
   "metadata": {},
   "outputs": [
    {
     "name": "stdout",
     "output_type": "stream",
     "text": [
      "Number of training features: 152\n"
     ]
    }
   ],
   "source": [
    "# Select all boolean and numerical columns as training features\n",
    "training_features = [col for col in df_encoded.select_dtypes(include=[\"bool\", \"number\"]).columns]\n",
    "\n",
    "print(f\"Number of training features: {len(training_features)}\")"
   ]
  },
  {
   "cell_type": "code",
   "execution_count": 72,
   "id": "44ede5ca",
   "metadata": {},
   "outputs": [
    {
     "data": {
      "text/plain": [
       "(1000098, 152)"
      ]
     },
     "execution_count": 72,
     "metadata": {},
     "output_type": "execute_result"
    }
   ],
   "source": [
    "# Drop all datetime columns from the DataFrame\n",
    "datetime_cols = df_encoded.select_dtypes(include=[\"datetime\", \"datetime64[ns]\"]).columns\n",
    "df_encoded = df_encoded.drop(columns=datetime_cols)\n",
    "\n",
    "df_encoded.shape"
   ]
  },
  {
   "cell_type": "code",
   "execution_count": 73,
   "id": "d6a1854c",
   "metadata": {},
   "outputs": [],
   "source": [
    "X, y = df_encoded.drop(columns=[\"CalculatedPremiumPerTerm\"]), df_encoded[\"CalculatedPremiumPerTerm\"]"
   ]
  },
  {
   "cell_type": "code",
   "execution_count": 74,
   "id": "9c85d65f",
   "metadata": {},
   "outputs": [
    {
     "name": "stdout",
     "output_type": "stream",
     "text": [
      "(800078, 151) (200020, 151)\n"
     ]
    }
   ],
   "source": [
    "from sklearn.model_selection import train_test_split\n",
    "\n",
    "X_train, X_test, y_train, y_test = train_test_split(X, y, test_size=0.2, random_state=42)\n",
    "\n",
    "print(X_train.shape, X_test.shape)"
   ]
  },
  {
   "cell_type": "code",
   "execution_count": 75,
   "id": "69f4206c",
   "metadata": {},
   "outputs": [
    {
     "name": "stdout",
     "output_type": "stream",
     "text": [
      "Baseline R-squared: -0.0000\n"
     ]
    }
   ],
   "source": [
    "X_train, X_test, y_train, y_test = train_test_split(X, y, test_size=0.2, random_state=42)\n",
    "\n",
    "import numpy as np\n",
    "from sklearn.metrics import mean_squared_error, r2_score\n",
    "\n",
    "# Predict the mean of y_train for all test samples (baseline model)\n",
    "y_pred = np.full(len(y_test), y_train.mean())\n",
    "\n",
    "r2 = r2_score(y_test, y_pred)\n",
    "\n",
    "print(f\"Baseline R-squared: {r2:.4f}\")"
   ]
  },
  {
   "cell_type": "code",
   "execution_count": 76,
   "id": "0ce99426",
   "metadata": {},
   "outputs": [
    {
     "name": "stdout",
     "output_type": "stream",
     "text": [
      "Training set shape: (800078, 151)\n",
      "Testing set shape: (200020, 151)\n",
      "Model Evaluation Scores (RMSE, R2):\n",
      "LinearRegression: RMSE=42954.3144, R2=0.4619\n",
      "GradientBoostingRegressor: RMSE=2294.5841, R2=0.9713\n",
      "RandomForestRegressor: RMSE=17.9629, R2=0.9998\n",
      "XGBRegressor: RMSE=628.6788, R2=0.9921\n"
     ]
    }
   ],
   "source": [
    "\n",
    "from sklearn.linear_model import LinearRegression\n",
    "from sklearn.ensemble import GradientBoostingRegressor, RandomForestRegressor\n",
    "from xgboost import XGBRegressor\n",
    "from sklearn.model_selection import train_test_split\n",
    "\n",
    "# Split the data into training and testing sets\n",
    "\n",
    "\n",
    "print(\"Training set shape:\", X_train.shape)\n",
    "print(\"Testing set shape:\", X_test.shape)\n",
    "\n",
    "# Dictionary to store model scores: model_name -> [RMSE, R2]\n",
    "scores = {}\n",
    "\n",
    "# List of regression models to evaluate\n",
    "models = [\n",
    "    LinearRegression(), \n",
    "    GradientBoostingRegressor(),\n",
    "    RandomForestRegressor(), \n",
    "    XGBRegressor()\n",
    "]\n",
    "\n",
    "# Train and evaluate each model\n",
    "for model in models:\n",
    "    model.fit(X_train, y_train)\n",
    "    y_pred = model.predict(X_test)\n",
    "    rmse = mean_squared_error(y_test, y_pred)\n",
    "    r2 = r2_score(y_test, y_pred)\n",
    "    scores[model.__class__.__name__] = [rmse, r2]\n",
    "\n",
    "print(\"Model Evaluation Scores (RMSE, R2):\")\n",
    "for model_name, score in scores.items():\n",
    "    print(f\"{model_name}: RMSE={score[0]:.4f}, R2={score[1]:.4f}\")"
   ]
  },
  {
   "cell_type": "markdown",
   "id": "2d5ece0d",
   "metadata": {},
   "source": [
    "### Best Model"
   ]
  },
  {
   "cell_type": "code",
   "execution_count": 78,
   "id": "93b6f332",
   "metadata": {},
   "outputs": [],
   "source": [
    "best_model = RandomForestRegressor()\n",
    "\n",
    "best_model.fit(X_train, y_train)\n",
    "\n",
    "y_pred = best_model.predict(X_test)\n",
    "rmse = mean_squared_error(y_test, y_pred)\n",
    "r2 = r2_score(y_test, y_pred)"
   ]
  },
  {
   "cell_type": "code",
   "execution_count": 80,
   "id": "c7167551",
   "metadata": {},
   "outputs": [
    {
     "name": "stdout",
     "output_type": "stream",
     "text": [
      "R2 = 0.9997625931964588\n",
      "RMSE = 18.95190747432761\n"
     ]
    }
   ],
   "source": [
    "print(\"R2 =\", r2)\n",
    "print(\"RMSE =\", rmse)"
   ]
  },
  {
   "cell_type": "code",
   "execution_count": 81,
   "id": "99d13387",
   "metadata": {},
   "outputs": [
    {
     "name": "stdout",
     "output_type": "stream",
     "text": [
      "SumInsured                                      0.742954\n",
      "CoverType_own_damage                            0.203703\n",
      "CoverType_third_party                           0.013253\n",
      "CoverCategory_third_party                       0.011005\n",
      "CoverGroup_comprehensive_taxi                   0.006131\n",
      "Province_kwazulunatal                           0.004597\n",
      "cubiccapacity                                   0.003117\n",
      "UnderwrittenCoverID                             0.003056\n",
      "PolicyID                                        0.001868\n",
      "RegistrationYear                                0.001791\n",
      "PostalCode                                      0.001190\n",
      "Product_mobility_metered_taxis_monthly          0.001070\n",
      "Product_mobility_commercial_cover_monthly       0.000864\n",
      "Province_north_west                             0.000745\n",
      "CapitalOutstanding                              0.000490\n",
      "Province_gauteng                                0.000471\n",
      "duration                                        0.000266\n",
      "Model                                           0.000260\n",
      "mmcode                                          0.000229\n",
      "MainCrestaZone_transvaal_all_except_pretoria    0.000177\n",
      "dtype: float64\n"
     ]
    },
    {
     "data": {
      "image/png": "[encoded data removed]",
      "text/plain": [
       "<Figure size 1000x600 with 1 Axes>"
      ]
     },
     "metadata": {},
     "output_type": "display_data"
    }
   ],
   "source": [
    "# Assuming you have a trained RandomForestRegressor model called 'best_model'\n",
    "# and your feature names are in X_train.columns\n",
    "\n",
    "importances = pd.Series(best_model.feature_importances_, index=X_train.columns)\n",
    "importances = importances.sort_values(ascending=False)\n",
    "\n",
    "# Display top 20 features\n",
    "print(importances.head(20))\n",
    "\n",
    "# Plot feature importances\n",
    "plt.figure(figsize=(10, 6))\n",
    "importances.head(20).plot(kind='bar')\n",
    "plt.title(\"Top 20 Feature Importances (Random Forest)\")\n",
    "plt.ylabel(\"Importance Score\")\n",
    "plt.xlabel(\"Feature\")\n",
    "plt.tight_layout()\n",
    "plt.show()"
   ]
  },
  {
   "cell_type": "code",
   "execution_count": 82,
   "id": "2fcde38a",
   "metadata": {},
   "outputs": [
    {
     "data": {
      "text/plain": [
       "['../models/random_forest_premium_model.pkl']"
      ]
     },
     "execution_count": 82,
     "metadata": {},
     "output_type": "execute_result"
    }
   ],
   "source": [
    "import joblib\n",
    "\n",
    "# Save the trained model to a file\n",
    "joblib.dump(best_model, \"../models/random_forest_premium_model.pkl\")\n",
    "\n"
   ]
  },
  {
   "cell_type": "markdown",
   "id": "bd9401db",
   "metadata": {},
   "source": []
  },
  {
   "cell_type": "markdown",
   "id": "910438bb",
   "metadata": {},
   "source": [
    "# Report: Machine Learning Pipeline for Premium Prediction (`tas-4-part.ipynb`)\n",
    "\n",
    "## Overview\n",
    "\n",
    "This notebook documents the full workflow for preparing insurance data and building a machine learning model to predict insurance premiums (`CalculatedPremiumPerTerm`). The process includes data cleaning, feature engineering, encoding, leakage prevention, model training, evaluation, and model saving.\n",
    "\n",
    "---\n",
    "\n",
    "## What I Did and How\n",
    "\n",
    "### 1. **Data Loading and Exploration**\n",
    "- Loaded the cleaned insurance dataset from CSV.\n",
    "- Inspected the data structure and checked for records with positive premium values.\n",
    "\n",
    "### 2. **Missing Value Analysis and Handling**\n",
    "- Calculated missing value counts and percentages for each feature.\n",
    "- Summarized missing data and dropped features with more than 30% missing values.\n",
    "\n",
    "### 3. **Feature Categorization**\n",
    "- Identified categorical, numerical, and boolean features using pandas' `select_dtypes`.\n",
    "\n",
    "### 4. **Imputation of Missing Values**\n",
    "- Filled missing values in numerical features with the mean.\n",
    "- Filled missing values in categorical features with the mode.\n",
    "\n",
    "### 5. **Datetime Feature Engineering**\n",
    "- Converted `VehicleIntroDate` and `TransactionMonth` to datetime.\n",
    "- Created a `duration` feature (months between vehicle introduction and transaction).\n",
    "- Extracted the year from `TransactionMonth`.\n",
    "\n",
    "### 6. **Leakage Prevention**\n",
    "- Identified and dropped leaky features (e.g., `TotalPremium`, `PremiumPerTerm`, `ExcessSelected`, `StatutoryClass`, `StatutoryRiskType`, `TotalClaims`) to avoid data leakage.\n",
    "\n",
    "### 7. **Constant Feature Removal**\n",
    "- Dropped categorical and boolean features with only one unique value.\n",
    "\n",
    "### 8. **Data Cleaning and Standardization**\n",
    "- Cleaned the `CapitalOutstanding` column and converted it to float.\n",
    "- Standardized categorical feature values (lowercase, removed special characters, replaced spaces with underscores).\n",
    "\n",
    "### 9. **Rare Category Handling**\n",
    "- Replaced rare categories (fewer than 1,000 occurrences) in categorical features with `'other'`.\n",
    "\n",
    "### 10. **Imputing Gender from Title**\n",
    "- Used the `Title` column to infer and fill missing or unspecified values in the `Gender` column.\n",
    "\n",
    "### 11. **Categorical Feature Encoding**\n",
    "- Encoded categorical features:\n",
    "  - Used target-based encoding for features with more than 20 unique classes.\n",
    "  - Used one-hot encoding for features with 20 or fewer classes.\n",
    "\n",
    "### 12. **Feature Selection and Final Preparation**\n",
    "- Selected all boolean and numerical columns as training features.\n",
    "- Dropped all datetime columns from the encoded DataFrame.\n",
    "\n",
    "### 13. **Train-Test Split**\n",
    "- Split the data into training and testing sets (80/20 split).\n",
    "\n",
    "### 14. **Baseline Model**\n",
    "- Established a baseline by predicting the mean of the training target for all test samples and calculated the baseline R² score.\n",
    "\n",
    "### 15. **Model Training and Evaluation**\n",
    "- Trained and evaluated four regression models:\n",
    "  - Linear Regression\n",
    "  - Gradient Boosting Regressor\n",
    "  - Random Forest Regressor\n",
    "  - XGBoost Regressor\n",
    "- Calculated RMSE and R² for each model and selected the best-performing model (Random Forest Regressor).\n",
    "\n",
    "### 16. **Feature Importance**\n",
    "- Extracted and visualized the top 20 feature importances from the Random Forest model.\n",
    "\n",
    "### 17. **Model Saving**\n",
    "- Saved the trained Random Forest model to disk using `joblib` for future use.\n",
    "\n",
    "---\n",
    "\n",
    "## Summary\n",
    "\n",
    "This notebook demonstrates a complete, systematic approach to insurance premium prediction, including robust data cleaning, thoughtful feature engineering, careful encoding, and rigorous model evaluation and selection. The final model is saved for deployment or further analysis."
   ]
  }
 ],
 "metadata": {
  "kernelspec": {
   "display_name": ".venv",
   "language": "python",
   "name": "python3"
  },
  "language_info": {
   "codemirror_mode": {
    "name": "ipython",
    "version": 3
   },
   "file_extension": ".py",
   "mimetype": "text/x-python",
   "name": "python",
   "nbconvert_exporter": "python",
   "pygments_lexer": "ipython3",
   "version": "3.11.9"
  }
 },
 "nbformat": 4,
 "nbformat_minor": 5
}
