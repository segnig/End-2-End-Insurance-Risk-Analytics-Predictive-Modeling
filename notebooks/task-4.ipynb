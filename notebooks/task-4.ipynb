{
 "cells": [
  {
   "cell_type": "markdown",
   "id": "7b1691f6",
   "metadata": {},
   "source": [
    "## Importing necessary libraries"
   ]
  },
  {
   "cell_type": "markdown",
   "id": "3272d519",
   "metadata": {},
   "source": [
    "### 1 Claim Severity Prediction (Risk Model): \n",
    "For policies that have a claim, build a model to predict the TotalClaims amount. This model estimates the financial liability associated with a policy.\n",
    "\n",
    "**Target Variable:** `TotalClaims` (on the subset of data where claims > 0).\n",
    "\n",
    "**Evaluation Metric:** ``Root Mean Squared Error (RMSE)` to penalize large prediction errors, and R-squared.\n"
   ]
  },
  {
   "cell_type": "markdown",
   "id": "c7b10146",
   "metadata": {},
   "source": []
  }
 ],
 "metadata": {
  "language_info": {
   "name": "python"
  }
 },
 "nbformat": 4,
 "nbformat_minor": 5
}
